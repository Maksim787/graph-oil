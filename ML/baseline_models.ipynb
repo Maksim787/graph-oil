{
 "cells": [
  {
   "cell_type": "markdown",
   "source": [
    "# Load data"
   ],
   "metadata": {
    "collapsed": false
   }
  },
  {
   "cell_type": "code",
   "execution_count": 2,
   "outputs": [
    {
     "name": "stdout",
     "output_type": "stream",
     "text": [
      "(241, 10, 114, 3)\n",
      "(241, 10, 114)\n",
      "15.263157894736842 %\n"
     ]
    }
   ],
   "source": [
    "import numpy as np\n",
    "import pandas as pd\n",
    "from pathlib import Path\n",
    "from sklearn.model_selection import train_test_split\n",
    "\n",
    "f = np.load(str(Path('../data/features_(n_iterations, n_wells, n_dates, n_features).npy')))\n",
    "t = np.load(str(Path('../data/targets_(n_iterations, n_wells, n_dates).npy')))\n",
    "\n",
    "n_iterations, n_wells, n_dates, n_features = f.shape\n",
    "assert t.shape == (n_iterations, n_wells, n_dates)\n",
    "\n",
    "print(f.shape)\n",
    "print(t.shape)\n",
    "\n",
    "assert np.isnan(t).sum() == 0\n",
    "print(np.isnan(f).sum() / np.prod(f.shape) * 100, '%')"
   ],
   "metadata": {
    "collapsed": false,
    "pycharm": {
     "name": "#%%\n"
    }
   }
  },
  {
   "cell_type": "markdown",
   "source": [
    "# Count NaNs"
   ],
   "metadata": {
    "collapsed": false
   }
  },
  {
   "cell_type": "code",
   "execution_count": 3,
   "outputs": [
    {
     "name": "stdout",
     "output_type": "stream",
     "text": [
      "well=0: 89.5% NaN; First not NaN at 0.328%\n",
      "well=1: 0.0% NaN; First not NaN at 0.000%\n",
      "well=2: 0.0% NaN; First not NaN at 0.000%\n",
      "well=3: 0.0% NaN; First not NaN at 0.000%\n",
      "well=4: 5.3% NaN; First not NaN at 0.022%\n",
      "well=5: 5.3% NaN; First not NaN at 0.022%\n",
      "well=6: 15.8% NaN; First not NaN at 0.022%\n",
      "well=7: 10.5% NaN; First not NaN at 0.044%\n",
      "well=8: 10.5% NaN; First not NaN at 0.044%\n",
      "well=9: 15.8% NaN; First not NaN at 0.066%\n"
     ]
    }
   ],
   "source": [
    "def get_well(f, t, well):\n",
    "    well_t = t[:, well, :]\n",
    "    well_f = f[:, well, :, :]\n",
    "    well_f = well_f.reshape((-1, 3))\n",
    "    well_t = well_t.reshape(-1)\n",
    "    return well_f, well_t\n",
    "\n",
    "\n",
    "def first_true_index(arr):\n",
    "    for i in range(len(arr)):\n",
    "        if arr[i]:\n",
    "            return i\n",
    "    return len(arr)\n",
    "\n",
    "\n",
    "for well in range(10):\n",
    "    well_f, well_t = get_well(f, t, well)\n",
    "    nan_pct = np.isnan(well_f).sum() / np.prod(well_f.shape) * 100\n",
    "    is_nan = (np.isnan(well_f).sum(axis=1) >= 1)\n",
    "    first_not_nan = first_true_index(~is_nan) / well_f.shape[0] * 100\n",
    "    print(f'well={well}: {nan_pct:.1f}% NaN; First not NaN at {first_not_nan:.3f}%')"
   ],
   "metadata": {
    "collapsed": false,
    "pycharm": {
     "name": "#%%\n"
    }
   }
  },
  {
   "cell_type": "markdown",
   "source": [
    "# Fit linear regressions for each well ignoring time feature"
   ],
   "metadata": {
    "collapsed": false
   }
  },
  {
   "cell_type": "code",
   "execution_count": 4,
   "outputs": [],
   "source": [
    "def get_train_test(f, t, well, train_size=0.7):\n",
    "    well_f, well_t = get_well(f, t, well)\n",
    "\n",
    "    # fill NaNs\n",
    "    well_f = pd.DataFrame(well_f).bfill().ffill().values\n",
    "\n",
    "    x_train, x_test, y_train, y_test = train_test_split(well_f, well_t, train_size=train_size, random_state=0)\n",
    "    return x_train, x_test, y_train, y_test"
   ],
   "metadata": {
    "collapsed": false,
    "pycharm": {
     "name": "#%%\n"
    }
   }
  },
  {
   "cell_type": "code",
   "execution_count": 5,
   "outputs": [],
   "source": [
    "from sklearn.linear_model import RidgeCV, LassoCV, LinearRegression\n",
    "from sklearn.metrics import mean_squared_error\n",
    "from sklearn.preprocessing import StandardScaler"
   ],
   "metadata": {
    "collapsed": false,
    "pycharm": {
     "name": "#%%\n"
    }
   }
  },
  {
   "cell_type": "code",
   "execution_count": 6,
   "outputs": [
    {
     "data": {
      "text/plain": "      n_observations  const PRED  const RMSE  LinearRegression RMSE  \\\nwell                                                                  \n0              19231    0.479646    3.135950               3.115969   \n1              19231    6.445017    5.042689               3.612191   \n2              19231    7.668444    4.636348               3.295152   \n3              19231    8.061961    4.915286               3.447397   \n4              19231    6.714263    4.658482               4.230565   \n5              19231    5.439600    5.600288               5.161956   \n6              19231    3.183071    2.855584               2.816619   \n7              19231    5.701470    4.358340               3.691910   \n8              19231    6.936375    5.310070               4.272064   \n9              19231    6.719035    6.564624               5.427840   \n\n      RidgeCV RMSE  LassoCV RMSE  LinearRegression INTERCEPT  \\\nwell                                                           \n0         3.115984      3.115970                    0.479646   \n1         3.612193      3.612189                    6.445017   \n2         3.295120      3.295150                    7.668444   \n3         3.447407      3.447404                    8.061961   \n4         4.230616      4.230566                    6.714263   \n5         5.161990      5.161956                    5.439600   \n6         2.816656      2.816620                    3.183071   \n7         3.691892      3.691902                    5.701470   \n8         4.272060      4.272072                    6.936375   \n9         5.427868      5.427840                    6.719035   \n\n      RidgeCV INTERCEPT  LassoCV INTERCEPT  \\\nwell                                         \n0              0.479646           0.479646   \n1              6.445017           6.445017   \n2              7.668444           7.668444   \n3              8.061961           8.061961   \n4              6.714263           6.714263   \n5              5.439600           5.439600   \n6              3.183071           3.183071   \n7              5.701470           5.701470   \n8              6.936375           6.936375   \n9              6.719035           6.719035   \n\n                                  LinearRegression COEF  \\\nwell                                                      \n0      [-0.2800629543975049, 0.0, -0.18419231728510044]   \n1     [1.7879273336872115, -0.03834291513380507, 1.9...   \n2     [1.6764694412256174, -0.14021070051599424, 1.8...   \n3     [1.9446726584533585, -0.06617940801421736, 1.7...   \n4     [1.0235685697142052, 0.07053287495752406, 1.01...   \n5     [1.099846824205427, 1.0536392231193126, 0.9719...   \n6     [0.18530402376109503, 0.26295568347587434, 0.2...   \n7     [1.3060784868666038, 0.4861807642301436, 1.280...   \n8     [1.6917997338857567, 0.7429585785742309, 1.778...   \n9     [1.9204379251154113, -2.3826165447366696, 1.83...   \n\n                                           RidgeCV COEF  \\\nwell                                                      \n0      [-0.2774293743551244, 0.0, -0.18252373490221618]   \n1     [1.7866781707562103, -0.038950149723245175, 1....   \n2     [1.675673129142826, -0.14000818531484172, 1.81...   \n3     [1.9421307308460882, -0.06673670740792703, 1.7...   \n4     [1.019888731459464, 0.06937715051509019, 1.012...   \n5     [1.0950653865958433, 1.0480597731013321, 0.968...   \n6     [0.18349155683705476, 0.25648420907513714, 0.2...   \n7     [1.3044789582255056, 0.48512360066328575, 1.27...   \n8     [1.6902991614556155, 0.7419289491929941, 1.776...   \n9     [1.917830454304168, -2.377942721882782, 1.8373...   \n\n                                           LassoCV COEF  RidgeCV ALPHA  \\\nwell                                                                     \n0        [-0.280001271500074, 0.0, -0.1841306101358511]     187.381742   \n1     [1.7880342580626234, -0.038192712557793745, 1....      29.150531   \n2     [1.6765260332588556, -0.13994575038859974, 1.8...      23.101297   \n3     [1.9447641757510326, -0.06592502499592122, 1.7...      29.150531   \n4     [1.0235021941566635, 0.07034750939116388, 1.01...     117.681195   \n5     [1.0994204410869879, 1.053069916424008, 0.9714...     117.681195   \n6     [0.1852618224282802, 0.2628503267468227, 0.210...     475.081016   \n7     [1.3057032644368445, 0.48548644242684946, 1.28...      36.783798   \n8     [1.6914430091424022, 0.7423254342867736, 1.777...      29.150531   \n9     [1.920429987600627, -2.3826029053674422, 1.839...      29.150531   \n\n      LassoCV ALPHA  \nwell                 \n0          0.000064  \n1          0.000206  \n2          0.000260  \n3          0.000327  \n4          0.000163  \n5          0.000658  \n6          0.000102  \n7          0.000658  \n8          0.000658  \n9          0.000010  ",
      "text/html": "<div>\n<style scoped>\n    .dataframe tbody tr th:only-of-type {\n        vertical-align: middle;\n    }\n\n    .dataframe tbody tr th {\n        vertical-align: top;\n    }\n\n    .dataframe thead th {\n        text-align: right;\n    }\n</style>\n<table border=\"1\" class=\"dataframe\">\n  <thead>\n    <tr style=\"text-align: right;\">\n      <th></th>\n      <th>n_observations</th>\n      <th>const PRED</th>\n      <th>const RMSE</th>\n      <th>LinearRegression RMSE</th>\n      <th>RidgeCV RMSE</th>\n      <th>LassoCV RMSE</th>\n      <th>LinearRegression INTERCEPT</th>\n      <th>RidgeCV INTERCEPT</th>\n      <th>LassoCV INTERCEPT</th>\n      <th>LinearRegression COEF</th>\n      <th>RidgeCV COEF</th>\n      <th>LassoCV COEF</th>\n      <th>RidgeCV ALPHA</th>\n      <th>LassoCV ALPHA</th>\n    </tr>\n    <tr>\n      <th>well</th>\n      <th></th>\n      <th></th>\n      <th></th>\n      <th></th>\n      <th></th>\n      <th></th>\n      <th></th>\n      <th></th>\n      <th></th>\n      <th></th>\n      <th></th>\n      <th></th>\n      <th></th>\n      <th></th>\n    </tr>\n  </thead>\n  <tbody>\n    <tr>\n      <th>0</th>\n      <td>19231</td>\n      <td>0.479646</td>\n      <td>3.135950</td>\n      <td>3.115969</td>\n      <td>3.115984</td>\n      <td>3.115970</td>\n      <td>0.479646</td>\n      <td>0.479646</td>\n      <td>0.479646</td>\n      <td>[-0.2800629543975049, 0.0, -0.18419231728510044]</td>\n      <td>[-0.2774293743551244, 0.0, -0.18252373490221618]</td>\n      <td>[-0.280001271500074, 0.0, -0.1841306101358511]</td>\n      <td>187.381742</td>\n      <td>0.000064</td>\n    </tr>\n    <tr>\n      <th>1</th>\n      <td>19231</td>\n      <td>6.445017</td>\n      <td>5.042689</td>\n      <td>3.612191</td>\n      <td>3.612193</td>\n      <td>3.612189</td>\n      <td>6.445017</td>\n      <td>6.445017</td>\n      <td>6.445017</td>\n      <td>[1.7879273336872115, -0.03834291513380507, 1.9...</td>\n      <td>[1.7866781707562103, -0.038950149723245175, 1....</td>\n      <td>[1.7880342580626234, -0.038192712557793745, 1....</td>\n      <td>29.150531</td>\n      <td>0.000206</td>\n    </tr>\n    <tr>\n      <th>2</th>\n      <td>19231</td>\n      <td>7.668444</td>\n      <td>4.636348</td>\n      <td>3.295152</td>\n      <td>3.295120</td>\n      <td>3.295150</td>\n      <td>7.668444</td>\n      <td>7.668444</td>\n      <td>7.668444</td>\n      <td>[1.6764694412256174, -0.14021070051599424, 1.8...</td>\n      <td>[1.675673129142826, -0.14000818531484172, 1.81...</td>\n      <td>[1.6765260332588556, -0.13994575038859974, 1.8...</td>\n      <td>23.101297</td>\n      <td>0.000260</td>\n    </tr>\n    <tr>\n      <th>3</th>\n      <td>19231</td>\n      <td>8.061961</td>\n      <td>4.915286</td>\n      <td>3.447397</td>\n      <td>3.447407</td>\n      <td>3.447404</td>\n      <td>8.061961</td>\n      <td>8.061961</td>\n      <td>8.061961</td>\n      <td>[1.9446726584533585, -0.06617940801421736, 1.7...</td>\n      <td>[1.9421307308460882, -0.06673670740792703, 1.7...</td>\n      <td>[1.9447641757510326, -0.06592502499592122, 1.7...</td>\n      <td>29.150531</td>\n      <td>0.000327</td>\n    </tr>\n    <tr>\n      <th>4</th>\n      <td>19231</td>\n      <td>6.714263</td>\n      <td>4.658482</td>\n      <td>4.230565</td>\n      <td>4.230616</td>\n      <td>4.230566</td>\n      <td>6.714263</td>\n      <td>6.714263</td>\n      <td>6.714263</td>\n      <td>[1.0235685697142052, 0.07053287495752406, 1.01...</td>\n      <td>[1.019888731459464, 0.06937715051509019, 1.012...</td>\n      <td>[1.0235021941566635, 0.07034750939116388, 1.01...</td>\n      <td>117.681195</td>\n      <td>0.000163</td>\n    </tr>\n    <tr>\n      <th>5</th>\n      <td>19231</td>\n      <td>5.439600</td>\n      <td>5.600288</td>\n      <td>5.161956</td>\n      <td>5.161990</td>\n      <td>5.161956</td>\n      <td>5.439600</td>\n      <td>5.439600</td>\n      <td>5.439600</td>\n      <td>[1.099846824205427, 1.0536392231193126, 0.9719...</td>\n      <td>[1.0950653865958433, 1.0480597731013321, 0.968...</td>\n      <td>[1.0994204410869879, 1.053069916424008, 0.9714...</td>\n      <td>117.681195</td>\n      <td>0.000658</td>\n    </tr>\n    <tr>\n      <th>6</th>\n      <td>19231</td>\n      <td>3.183071</td>\n      <td>2.855584</td>\n      <td>2.816619</td>\n      <td>2.816656</td>\n      <td>2.816620</td>\n      <td>3.183071</td>\n      <td>3.183071</td>\n      <td>3.183071</td>\n      <td>[0.18530402376109503, 0.26295568347587434, 0.2...</td>\n      <td>[0.18349155683705476, 0.25648420907513714, 0.2...</td>\n      <td>[0.1852618224282802, 0.2628503267468227, 0.210...</td>\n      <td>475.081016</td>\n      <td>0.000102</td>\n    </tr>\n    <tr>\n      <th>7</th>\n      <td>19231</td>\n      <td>5.701470</td>\n      <td>4.358340</td>\n      <td>3.691910</td>\n      <td>3.691892</td>\n      <td>3.691902</td>\n      <td>5.701470</td>\n      <td>5.701470</td>\n      <td>5.701470</td>\n      <td>[1.3060784868666038, 0.4861807642301436, 1.280...</td>\n      <td>[1.3044789582255056, 0.48512360066328575, 1.27...</td>\n      <td>[1.3057032644368445, 0.48548644242684946, 1.28...</td>\n      <td>36.783798</td>\n      <td>0.000658</td>\n    </tr>\n    <tr>\n      <th>8</th>\n      <td>19231</td>\n      <td>6.936375</td>\n      <td>5.310070</td>\n      <td>4.272064</td>\n      <td>4.272060</td>\n      <td>4.272072</td>\n      <td>6.936375</td>\n      <td>6.936375</td>\n      <td>6.936375</td>\n      <td>[1.6917997338857567, 0.7429585785742309, 1.778...</td>\n      <td>[1.6902991614556155, 0.7419289491929941, 1.776...</td>\n      <td>[1.6914430091424022, 0.7423254342867736, 1.777...</td>\n      <td>29.150531</td>\n      <td>0.000658</td>\n    </tr>\n    <tr>\n      <th>9</th>\n      <td>19231</td>\n      <td>6.719035</td>\n      <td>6.564624</td>\n      <td>5.427840</td>\n      <td>5.427868</td>\n      <td>5.427840</td>\n      <td>6.719035</td>\n      <td>6.719035</td>\n      <td>6.719035</td>\n      <td>[1.9204379251154113, -2.3826165447366696, 1.83...</td>\n      <td>[1.917830454304168, -2.377942721882782, 1.8373...</td>\n      <td>[1.920429987600627, -2.3826029053674422, 1.839...</td>\n      <td>29.150531</td>\n      <td>0.000010</td>\n    </tr>\n  </tbody>\n</table>\n</div>"
     },
     "execution_count": 6,
     "metadata": {},
     "output_type": "execute_result"
    }
   ],
   "source": [
    "alphas = np.geomspace(1e-5, 1e5, 100)\n",
    "models = [LinearRegression(), RidgeCV(alphas=alphas), LassoCV(alphas=alphas)]\n",
    "scaler = StandardScaler()\n",
    "\n",
    "models_names = [model.__class__.__name__ for model in models]\n",
    "models_rmse_names = [f'{model_name} RMSE' for model_name in models_names]\n",
    "models_intercept = [f'{model_name} INTERCEPT' for model_name in models_names]\n",
    "models_coef = [f'{model_name} COEF' for model_name in models_names]\n",
    "models_alpha = [f'{model_name} ALPHA' for model_name in models_names if model_name != 'LinearRegression']\n",
    "columns = ['well', 'n_observations', 'const PRED', 'const RMSE'] + models_rmse_names + models_intercept + models_coef + models_alpha\n",
    "\n",
    "results = pd.DataFrame(columns=columns).set_index('well')\n",
    "\n",
    "for well in range(10):\n",
    "    x_train, x_test, y_train, y_test = get_train_test(f, t, well)\n",
    "\n",
    "    const_prediction = y_train.mean()\n",
    "    const_rmse = mean_squared_error(np.full_like(y_test, const_prediction), y_test, squared=False)\n",
    "\n",
    "    models_rmse = []\n",
    "    models_intercept = []\n",
    "    models_coef = []\n",
    "    models_alpha = []\n",
    "\n",
    "    for model in models:\n",
    "        model.fit(scaler.fit_transform(x_train), y_train)\n",
    "        rmse = mean_squared_error(model.predict(scaler.transform(x_test)), y_test, squared=False)\n",
    "        models_rmse.append(rmse)\n",
    "        models_intercept.append(model.intercept_)\n",
    "        models_coef.append(model.coef_)\n",
    "        if not isinstance(model, LinearRegression):\n",
    "            models_alpha.append(model.alpha_)\n",
    "\n",
    "    results.loc[well] = [x_train.shape[0], const_prediction, const_rmse] + models_rmse + models_intercept + models_coef + models_alpha\n",
    "results"
   ],
   "metadata": {
    "collapsed": false,
    "pycharm": {
     "name": "#%%\n"
    }
   }
  },
  {
   "cell_type": "markdown",
   "source": [
    "# Construct DataFrame for baseline methods\n",
    "\n",
    "Add well number and time as features"
   ],
   "metadata": {
    "collapsed": false
   }
  },
  {
   "cell_type": "code",
   "execution_count": 7,
   "outputs": [
    {
     "name": "stdout",
     "output_type": "stream",
     "text": [
      "274740 observations\n"
     ]
    }
   ],
   "source": [
    "def rmse(y_true, y_pred):\n",
    "    return mean_squared_error(y_true, y_pred, squared=False)\n",
    "\n",
    "\n",
    "def construct_df(f, t):\n",
    "    f = np.concatenate(\n",
    "        [np.concatenate([f[:, well, time, :], [[well, time]] * n_iterations], axis=1) for well in range(n_wells) for time in range(n_dates)],\n",
    "        axis=0, dtype=float\n",
    "    )\n",
    "    t = np.concatenate([t[:, well, time] for well in range(n_wells) for time in range(n_dates)], axis=0, dtype=float)\n",
    "    f = pd.DataFrame(f, columns=['oilrate', 'watrate', 'gasrate', 'well', 'time']).bfill().ffill()\n",
    "    f['well'] = pd.Categorical(f['well'].astype(int))\n",
    "    f['time'] = pd.Categorical(f['time'].astype(int))\n",
    "    return f, t\n",
    "\n",
    "\n",
    "X, y = construct_df(f, t)\n",
    "assert X.shape[0] == y.shape[0]\n",
    "print(f'{X.shape[0]} observations')\n",
    "\n",
    "X_train, X_test, y_train, y_test = train_test_split(X, y, train_size=0.7, random_state=0)"
   ],
   "metadata": {
    "collapsed": false,
    "pycharm": {
     "name": "#%%\n"
    }
   }
  },
  {
   "cell_type": "markdown",
   "source": [
    "# Constant prediction"
   ],
   "metadata": {
    "collapsed": false
   }
  },
  {
   "cell_type": "code",
   "execution_count": 8,
   "outputs": [
    {
     "name": "stdout",
     "output_type": "stream",
     "text": [
      "Const prediction: 5.738696005867956\n",
      "Const RMSE: 5.265034501830574\n"
     ]
    }
   ],
   "source": [
    "const_prediction = y_train.mean()\n",
    "const_rmse = rmse(np.full_like(y_test, const_prediction), y_test)\n",
    "print(f'Const prediction: {const_prediction}\\nConst RMSE: {const_rmse}')"
   ],
   "metadata": {
    "collapsed": false,
    "pycharm": {
     "name": "#%%\n"
    }
   }
  },
  {
   "cell_type": "markdown",
   "source": [
    "# Transform features"
   ],
   "metadata": {
    "collapsed": false
   }
  },
  {
   "cell_type": "code",
   "execution_count": 9,
   "outputs": [],
   "source": [
    "from sklearn.preprocessing import StandardScaler, OneHotEncoder\n",
    "from sklearn.compose import ColumnTransformer\n",
    "\n",
    "numerical_columns = ['oilrate', 'watrate', 'gasrate']\n",
    "categorical_columns = ['well', 'time']\n",
    "column_transformer = ColumnTransformer([\n",
    "    ('scaler', StandardScaler(), numerical_columns),\n",
    "    ('ohe', OneHotEncoder(), categorical_columns)\n",
    "])\n",
    "\n",
    "X_train_transformed = column_transformer.fit_transform(X_train)\n",
    "categorical_columns_ohe = column_transformer.transformers_[1][1].get_feature_names_out().tolist()\n",
    "transformed_columns = numerical_columns + categorical_columns_ohe\n",
    "X_train_transformed = pd.DataFrame(X_train_transformed.toarray(), columns=transformed_columns)\n",
    "X_test_transformed = pd.DataFrame(column_transformer.transform(X_test).toarray(), columns=transformed_columns)"
   ],
   "metadata": {
    "collapsed": false,
    "pycharm": {
     "name": "#%%\n"
    }
   }
  },
  {
   "cell_type": "markdown",
   "source": [
    "# Linear regressions"
   ],
   "metadata": {
    "collapsed": false
   }
  },
  {
   "cell_type": "code",
   "execution_count": 10,
   "outputs": [
    {
     "name": "stdout",
     "output_type": "stream",
     "text": [
      "Number of features: 127\n",
      "LinearRegression: RMSE=3.71272729243929\n"
     ]
    },
    {
     "data": {
      "text/plain": "<Figure size 1500x500 with 1 Axes>",
      "image/png": "[encoded data removed]"
     },
     "metadata": {},
     "output_type": "display_data"
    },
    {
     "name": "stdout",
     "output_type": "stream",
     "text": [
      "RidgeCV: RMSE=3.712706509954825\n",
      "alpha=2.782559402207126\n"
     ]
    },
    {
     "data": {
      "text/plain": "<Figure size 1500x500 with 1 Axes>",
      "image/png": "[encoded data removed]"
     },
     "metadata": {},
     "output_type": "display_data"
    }
   ],
   "source": [
    "import matplotlib.pyplot as plt\n",
    "from sklearn.linear_model import LinearRegression, RidgeCV\n",
    "\n",
    "alphas = np.geomspace(1e-5, 1e2, 10)\n",
    "linear_models = [LinearRegression(), RidgeCV(alphas=alphas)]\n",
    "\n",
    "print(f'Number of features: {X_test_transformed.shape[1]}')\n",
    "for model in linear_models:\n",
    "    model.fit(X_train_transformed, y_train)\n",
    "    score = rmse(y_test, model.predict(X_test_transformed))\n",
    "    model_name = model.__class__.__name__\n",
    "    print(f'{model_name}: RMSE={score}')\n",
    "    if not isinstance(model, LinearRegression):\n",
    "        print(f'alpha={model.alpha_}')\n",
    "    plt.figure(figsize=(15, 5))\n",
    "    plt.bar(transformed_columns, model.coef_)\n",
    "    plt.xticks(rotation=90, fontsize=6)\n",
    "    plt.title(model_name)\n",
    "    plt.ylabel('Coefficient')\n",
    "    plt.show()\n"
   ],
   "metadata": {
    "collapsed": false,
    "pycharm": {
     "name": "#%%\n"
    }
   }
  },
  {
   "cell_type": "markdown",
   "source": [
    "# Tree and Random Forest"
   ],
   "metadata": {
    "collapsed": false
   }
  },
  {
   "cell_type": "code",
   "execution_count": 12,
   "outputs": [
    {
     "name": "stdout",
     "output_type": "stream",
     "text": [
      "DecisionTreeRegressor RMSE=3.6419344629594814\n",
      "RandomForestRegressor RMSE=2.825516379958671\n"
     ]
    }
   ],
   "source": [
    "from sklearn.tree import DecisionTreeRegressor\n",
    "from sklearn.ensemble import RandomForestRegressor\n",
    "\n",
    "for model in [DecisionTreeRegressor(), RandomForestRegressor(n_estimators=10)]:\n",
    "    model.fit(X_train_transformed, y_train)\n",
    "    score = rmse(y_test, model.predict(X_test_transformed))\n",
    "    print(f'{model.__class__.__name__} RMSE={score}')"
   ],
   "metadata": {
    "collapsed": false,
    "pycharm": {
     "name": "#%%\n"
    }
   }
  },
  {
   "cell_type": "markdown",
   "source": [
    "# CatBoost"
   ],
   "metadata": {
    "collapsed": false
   }
  },
  {
   "cell_type": "code",
   "execution_count": 13,
   "outputs": [
    {
     "name": "stderr",
     "output_type": "stream",
     "text": [
      "D:\\anaconda3\\envs\\invest\\lib\\site-packages\\catboost\\core.py:1411: FutureWarning: iteritems is deprecated and will be removed in a future version. Use .items instead.\n",
      "  self._init_pool(data, label, cat_features, text_features, embedding_features, embedding_features_data, pairs, weight,\n"
     ]
    },
    {
     "name": "stdout",
     "output_type": "stream",
     "text": [
      "RMSE=2.4725910678717793\n"
     ]
    }
   ],
   "source": [
    "from catboost import CatBoostRegressor\n",
    "\n",
    "model = CatBoostRegressor(verbose=False, cat_features=categorical_columns)\n",
    "model.fit(X_train, y_train)\n",
    "score = rmse(y_test, model.predict(X_test))\n",
    "print(f'RMSE={score}')"
   ],
   "metadata": {
    "collapsed": false,
    "pycharm": {
     "name": "#%%\n"
    }
   }
  },
  {
   "cell_type": "markdown",
   "source": [],
   "metadata": {
    "collapsed": false
   }
  },
  {
   "cell_type": "markdown",
   "source": [
    "# TODO:"
   ],
   "metadata": {
    "collapsed": false
   }
  },
  {
   "cell_type": "code",
   "execution_count": null,
   "outputs": [],
   "source": [],
   "metadata": {
    "collapsed": false,
    "pycharm": {
     "name": "#%%\n"
    }
   }
  }
 ],
 "metadata": {
  "kernelspec": {
   "display_name": "Python 3",
   "language": "python",
   "name": "python3"
  },
  "language_info": {
   "codemirror_mode": {
    "name": "ipython",
    "version": 2
   },
   "file_extension": ".py",
   "mimetype": "text/x-python",
   "name": "python",
   "nbconvert_exporter": "python",
   "pygments_lexer": "ipython2",
   "version": "2.7.6"
  }
 },
 "nbformat": 4,
 "nbformat_minor": 0
}