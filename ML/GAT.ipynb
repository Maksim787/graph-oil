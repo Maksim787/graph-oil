{
 "cells": [
  {
   "cell_type": "code",
   "execution_count": 1,
   "metadata": {
    "pycharm": {
     "name": "#%%\n"
    }
   },
   "outputs": [
    {
     "name": "stderr",
     "output_type": "stream",
     "text": [
      "\u001b[34m\u001b[1mwandb\u001b[0m: Currently logged in as: \u001b[33mildarnikitin20\u001b[0m. Use \u001b[1m`wandb login --relogin`\u001b[0m to force relogin\n"
     ]
    },
    {
     "data": {
      "text/plain": [
       "True"
      ]
     },
     "execution_count": 1,
     "metadata": {},
     "output_type": "execute_result"
    }
   ],
   "source": [
    "import wandb\n",
    "import dgl\n",
    "\n",
    "wandb.login()"
   ]
  },
  {
   "cell_type": "code",
   "execution_count": 2,
   "metadata": {},
   "outputs": [
    {
     "name": "stdout",
     "output_type": "stream",
     "text": [
      "(884, 10, 114, 3)\n",
      "(884, 10, 114)\n",
      "15.263157894736842 % NaNs\n"
     ]
    }
   ],
   "source": [
    "import numpy as np\n",
    "import pandas as pd\n",
    "import torch\n",
    "from pathlib import Path\n",
    "from tqdm import tqdm\n",
    "\n",
    "f = np.load(str(Path('../data/features_(n_iterations, n_wells, n_dates, n_features).npy')))\n",
    "t = np.load(str(Path('../data/targets_(n_iterations, n_wells, n_dates).npy')))\n",
    "\n",
    "N_ITERATIONS, N_WELLS, N_DATES, N_FEATURES = f.shape\n",
    "assert t.shape == (N_ITERATIONS, N_WELLS, N_DATES)\n",
    "\n",
    "print(f.shape)\n",
    "print(t.shape)\n",
    "\n",
    "assert np.isnan(t).sum() == 0\n",
    "print(np.isnan(f).sum() / np.prod(f.shape) * 100, '% NaNs')\n",
    "\n",
    "for iteration in range(N_ITERATIONS):\n",
    "    for well in range(N_WELLS):\n",
    "        df = pd.DataFrame(f[iteration, well])\n",
    "        f[iteration, well] = df.bfill().ffill().values\n",
    "assert np.isnan(f).sum() == 0\n",
    "\n",
    "f = torch.from_numpy(f).to(torch.float32)\n",
    "t = torch.from_numpy(t).to(torch.float32)\n",
    "t = t - t.mean(axis=0)"
   ]
  },
  {
   "cell_type": "code",
   "execution_count": 3,
   "metadata": {},
   "outputs": [
    {
     "name": "stderr",
     "output_type": "stream",
     "text": [
      "100%|████████████████████████████████████████████████████████████████████████████████| 884/884 [00:12<00:00, 68.74it/s]\n"
     ]
    }
   ],
   "source": [
    "N_LAGS = 25\n",
    "edges = [(source_node, target_node) for source_node in range(N_WELLS)\n",
    "                                    for target_node in range(N_WELLS)]\n",
    "\n",
    "graphs = []\n",
    "targets = []\n",
    "data = []\n",
    "\n",
    "for iteration in tqdm(range(f.shape[0])):\n",
    "    for time in range(N_LAGS, N_DATES - N_LAGS):\n",
    "        g = dgl.graph(edges, num_nodes = N_WELLS)\n",
    "        g.ndata['emb'] = f[iteration, :, time - N_LAGS : time + N_LAGS + 1, :].reshape(N_WELLS, (2 * N_LAGS + 1) * 3)\n",
    "        \n",
    "        data.append((g, t[iteration, :, time]))\n",
    "        targets.append(t[iteration, :, time])  \n",
    "    "
   ]
  },
  {
   "cell_type": "code",
   "execution_count": 4,
   "metadata": {},
   "outputs": [],
   "source": [
    "targets = torch.from_numpy(np.vstack(targets)).to(torch.float32)"
   ]
  },
  {
   "cell_type": "code",
   "execution_count": 5,
   "metadata": {},
   "outputs": [
    {
     "name": "stdout",
     "output_type": "stream",
     "text": [
      "Количество графов 56576\n"
     ]
    }
   ],
   "source": [
    "print(f\"Количество графов {len(graphs)}\")\n",
    "assert len(graphs) == len(targets)"
   ]
  },
  {
   "cell_type": "code",
   "execution_count": 6,
   "metadata": {},
   "outputs": [
    {
     "name": "stderr",
     "output_type": "stream",
     "text": [
      "<frozen importlib._bootstrap>:228: RuntimeWarning: scipy._lib.messagestream.MessageStream size changed, may indicate binary incompatibility. Expected 56 from C header, got 64 from PyObject\n"
     ]
    }
   ],
   "source": [
    "from torch.utils.data import TensorDataset, DataLoader\n",
    "from sklearn.model_selection import train_test_split\n",
    "from sklearn.metrics import mean_squared_error\n",
    "\n",
    "train_data, test_data, train_targets, test_targets = train_test_split(data, targets, train_size=0.7, random_state=0)"
   ]
  },
  {
   "cell_type": "code",
   "execution_count": 7,
   "metadata": {},
   "outputs": [
    {
     "data": {
      "text/plain": [
       "2.4777358"
      ]
     },
     "execution_count": 7,
     "metadata": {},
     "output_type": "execute_result"
    }
   ],
   "source": [
    "from sklearn.metrics import mean_squared_error\n",
    "\n",
    "BASELINE_RMSE = mean_squared_error(np.full_like(test_targets.reshape(-1), train_targets.mean()), \n",
    "                                   test_targets.reshape(-1), squared=False)\n",
    "BASELINE_RMSE"
   ]
  },
  {
   "cell_type": "code",
   "execution_count": 8,
   "metadata": {},
   "outputs": [],
   "source": [
    "def collate_fn_(batch):\n",
    "    graphs, labels = zip(*batch)\n",
    "    batched_graphs = dgl.batch(graphs)\n",
    "    batched_labels = np.concatenate(labels, axis=0)\n",
    "    return batched_graphs, batched_labels"
   ]
  },
  {
   "cell_type": "code",
   "execution_count": 9,
   "metadata": {},
   "outputs": [],
   "source": [
    "BATCH_SIZE = 64\n",
    "\n",
    "train_loader = DataLoader(train_data, batch_size=BATCH_SIZE, shuffle=True,collate_fn=collate_fn_)\n",
    "val_loader = DataLoader(test_data, batch_size=BATCH_SIZE,collate_fn=collate_fn_)"
   ]
  },
  {
   "cell_type": "code",
   "execution_count": 10,
   "metadata": {},
   "outputs": [],
   "source": [
    "embs_dim = train_data[0][0].ndata['emb'].shape[1]\n",
    "hidden_dim = 16\n",
    "num_heads = 2"
   ]
  },
  {
   "cell_type": "code",
   "execution_count": 11,
   "metadata": {},
   "outputs": [],
   "source": [
    "from dgl import nn as dgl_nn\n",
    "from torch import nn\n",
    "\n",
    "class GAT(nn.Module):\n",
    "    def __init__(self, hidden_dim, num_heads):\n",
    "        super(GAT, self).__init__()\n",
    "\n",
    "        self.layer1 = dgl_nn.GATv2Conv(embs_dim, hidden_dim, num_heads)\n",
    "\n",
    "        self.do1 = nn.Dropout(0.2)\n",
    "        self.do2 = nn.Dropout(0.2)\n",
    "        \n",
    "        self.linear = nn.Sequential(\n",
    "            nn.Linear(in_features=hidden_dim * num_heads, out_features=20),\n",
    "            nn.ReLU(),\n",
    "            nn.Linear(in_features=20, out_features=1),\n",
    "        )\n",
    "                \n",
    "    def forward(self, graph):\n",
    "        x_emb = graph.ndata['emb']\n",
    "\n",
    "        h = x_emb\n",
    "        \n",
    "        h = self.layer1(graph, h)\n",
    "        h = self.do1(h)\n",
    "        \n",
    "        h = torch.reshape(h, (h.shape[0], num_heads * hidden_dim))  \n",
    "        \n",
    "        graph.ndata['h'] = h\n",
    "\n",
    "        h = self.linear(h)\n",
    "        return h  "
   ]
  },
  {
   "cell_type": "code",
   "execution_count": 12,
   "metadata": {
    "pycharm": {
     "name": "#%%\n"
    }
   },
   "outputs": [],
   "source": [
    "import torch\n",
    "import matplotlib.pyplot as plt\n",
    "from timeit import default_timer as timer\n",
    "from IPython.display import clear_output\n",
    "\n",
    "\n",
    "def train_loop(model, optimizer, criterion, train_loader) -> float:\n",
    "    \"\"\"\n",
    "    Return RMSE\n",
    "    \"\"\"\n",
    "    train_loss = 0.0\n",
    "    model.train()\n",
    "    for graphs, labels in train_loader:\n",
    "        graphs = graphs.to(device)\n",
    "        labels = torch.from_numpy(labels).to(torch.float32).to(device)\n",
    "        optimizer.zero_grad()\n",
    "        predictions = model(graphs).squeeze()\n",
    "        loss = criterion(predictions.to(device), labels)\n",
    "        loss.backward()\n",
    "        optimizer.step()\n",
    "        train_loss += loss.item() * BATCH_SIZE\n",
    "    train_loss /= len(train_loader.dataset)\n",
    "    return np.sqrt(train_loss)\n",
    "\n",
    "\n",
    "@torch.no_grad()\n",
    "def val_loop(model, criterion, val_loader) -> float:\n",
    "    \"\"\"\n",
    "    Return RMSE\n",
    "    \"\"\"\n",
    "    val_loss = 0.0\n",
    "    model.eval()\n",
    "    for graphs, labels in val_loader:\n",
    "        graphs = graphs.to(device)\n",
    "        labels = torch.from_numpy(labels).to(torch.float32).to(device)\n",
    "        predictions = model(graphs).squeeze()\n",
    "        loss = criterion(predictions.to(device), labels)\n",
    "        val_loss += loss.item() * BATCH_SIZE\n",
    "    val_loss /= len(val_loader.dataset)\n",
    "    return np.sqrt(val_loss)\n",
    "\n",
    "\n",
    "def plot(epochs: list[int], train_losses: list[float], val_losses: list[float], baseline_rmse: float, plot_baseline: bool):\n",
    "    if plot_baseline:\n",
    "        plt.axhline(baseline_rmse, linestyle='dashed', label='baseline')\n",
    "    plt.plot(epochs, train_losses, label='train')\n",
    "    plt.plot(epochs, val_losses, label='test')\n",
    "    plt.title('RMSE')\n",
    "    plt.ylabel('RMSE')\n",
    "    plt.xlabel('Epoch')\n",
    "    plt.legend(loc='upper right')\n",
    "    plt.show()\n",
    "\n",
    "\n",
    "def train_gnn(model, optimizer, criterion, scheduler, train_loader, val_loader, n_epochs: int, baseline_rmse: float, plot_baseline: bool):\n",
    "    train_losses, val_losses = [], []\n",
    "    lrs = []\n",
    "\n",
    "    for epoch in range(1, n_epochs + 1):\n",
    "        # Train\n",
    "        start_time = timer()\n",
    "        train_loss = train_loop(model, optimizer, criterion, train_loader)\n",
    "        train_losses.append(train_loss)\n",
    "        train_time = timer() - start_time\n",
    "\n",
    "        # Validation\n",
    "        start_time = timer()\n",
    "        val_loss = val_loop(model, criterion, val_loader)\n",
    "        val_losses.append(val_loss)\n",
    "        val_time = timer() - start_time\n",
    "\n",
    "        # Log lr\n",
    "        lr = next(iter(optimizer.param_groups))['lr']\n",
    "        lrs.append(lr)\n",
    "\n",
    "        # Scheduler\n",
    "        if scheduler is not None:\n",
    "            scheduler.step(val_loss)\n",
    "\n",
    "        # Log record\n",
    "        record = {\n",
    "            'train_loss': train_loss,\n",
    "            'val_loss': val_loss,\n",
    "            'lr': lr,\n",
    "            'train_time': train_time,\n",
    "            'val_time': val_time,\n",
    "        }\n",
    "        wandb.log(record)\n",
    "\n",
    "        # Plot\n",
    "        if epoch % 2 == 0:\n",
    "            clear_output()\n",
    "            print(f'Epoch={epoch}')\n",
    "            print(f'val_RMSE={val_losses[-1]:.2f}; train_RMSE={train_losses[-1]:.2f}')\n",
    "            print(f'lr={lr}')\n",
    "            print(f'Train time: {train_time:.1f}s; val time: {val_time:.1f}s')\n",
    "            epochs = list(range(1, epoch + 1))\n",
    "            plot(epochs=epochs, train_losses=train_losses, val_losses=val_losses, baseline_rmse=baseline_rmse, plot_baseline=plot_baseline)\n",
    "            start_plot_epoch = 10\n",
    "            if epoch >= start_plot_epoch:\n",
    "                plot(epochs=epochs[start_plot_epoch:], train_losses=train_losses[start_plot_epoch:], val_losses=val_losses[start_plot_epoch:], baseline_rmse=baseline_rmse, plot_baseline=plot_baseline)\n",
    "            plt.plot(epochs, lrs)\n",
    "            plt.title('LR')\n",
    "            plt.xlabel('Epoch')\n",
    "            plt.ylabel('LR')\n",
    "            plt.show()\n",
    "    wandb.finish()"
   ]
  },
  {
   "cell_type": "code",
   "execution_count": 13,
   "metadata": {
    "pycharm": {
     "name": "#%%\n"
    }
   },
   "outputs": [
    {
     "data": {
      "text/plain": [
       "device(type='cuda', index=0)"
      ]
     },
     "execution_count": 13,
     "metadata": {},
     "output_type": "execute_result"
    }
   ],
   "source": [
    "device = torch.device('cuda:0' if torch.cuda.is_available() else 'cpu')\n",
    "assert device.type == 'cuda'\n",
    "device"
   ]
  },
  {
   "cell_type": "code",
   "execution_count": 14,
   "metadata": {
    "pycharm": {
     "name": "#%%\n"
    }
   },
   "outputs": [
    {
     "name": "stdout",
     "output_type": "stream",
     "text": [
      "Epoch=44\n",
      "val_RMSE=2.48; train_RMSE=2.46\n",
      "lr=0.001\n",
      "Train time: 8.3s; val time: 2.0s\n"
     ]
    },
    {
     "data": {
      "image/png": "[encoded data removed]",
      "text/plain": [
       "<Figure size 640x480 with 1 Axes>"
      ]
     },
     "metadata": {},
     "output_type": "display_data"
    },
    {
     "data": {
      "image/png": "[encoded data removed]",
      "text/plain": [
       "<Figure size 640x480 with 1 Axes>"
      ]
     },
     "metadata": {},
     "output_type": "display_data"
    },
    {
     "data": {
      "image/png": "[encoded data removed]",
      "text/plain": [
       "<Figure size 640x480 with 1 Axes>"
      ]
     },
     "metadata": {},
     "output_type": "display_data"
    },
    {
     "name": "stdout",
     "output_type": "stream",
     "text": [
      "KeyboardInterrupt\n"
     ]
    },
    {
     "data": {
      "text/html": [
       "Waiting for W&B process to finish... <strong style=\"color:green\">(success).</strong>"
      ],
      "text/plain": [
       "<IPython.core.display.HTML object>"
      ]
     },
     "metadata": {},
     "output_type": "display_data"
    },
    {
     "data": {
      "text/html": [
       "<style>\n",
       "    table.wandb td:nth-child(1) { padding: 0 10px; text-align: left ; width: auto;} td:nth-child(2) {text-align: left ; width: 100%}\n",
       "    .wandb-row { display: flex; flex-direction: row; flex-wrap: wrap; justify-content: flex-start; width: 100% }\n",
       "    .wandb-col { display: flex; flex-direction: column; flex-basis: 100%; flex: 1; padding: 10px; }\n",
       "    </style>\n",
       "<div class=\"wandb-row\"><div class=\"wandb-col\"><h3>Run history:</h3><br/><table class=\"wandb\"><tr><td>lr</td><td>▁▁▁▁▁▁▁▁▁▁▁▁▁▁▁▁▁▁▁▁▁▁▁▁▁▁▁▁▁▁▁▁▁▁▁▁▁▁▁▁</td></tr><tr><td>train_loss</td><td>█▂▂▁▁▁▂▁▁▁▁▁▁▁▁▁▁▁▁▁▁▁▁▁▁▁▁▁▁▁▁▁▁▁▁▁▁▁▁▁</td></tr><tr><td>train_time</td><td>█▁▂▁▂▁▂▂▁▁▂▂▂▂▁▁▁▁▁▁▂▁▁▂▁▁▂▂▂▂▁▂▂▁▂▂▂▂▁▁</td></tr><tr><td>val_loss</td><td>█▃▂▁▁▁▁▁▁▁▁▁▁▁▁▁▁▁▁▁▁▁▁▁▁▁▁▁▁▁▁▁▁▁▁▁▁▁▁▁</td></tr><tr><td>val_time</td><td>█▂▂▃▁▃▂▁▂▃▃▃▁▂▂▄▁▂▁▃▁▂▃▃▁▂▃▃▃▃▂▃▂▃▃▃▃▂▂▂</td></tr></table><br/></div><div class=\"wandb-col\"><h3>Run summary:</h3><br/><table class=\"wandb\"><tr><td>lr</td><td>0.001</td></tr><tr><td>train_loss</td><td>2.4591</td></tr><tr><td>train_time</td><td>8.29296</td></tr><tr><td>val_loss</td><td>2.48199</td></tr><tr><td>val_time</td><td>1.98889</td></tr></table><br/></div></div>"
      ],
      "text/plain": [
       "<IPython.core.display.HTML object>"
      ]
     },
     "metadata": {},
     "output_type": "display_data"
    },
    {
     "data": {
      "text/html": [
       " View run <strong style=\"color:#cdcd00\">GAT</strong> at: <a href='https://wandb.ai/ildarnikitin20/Oil%20neural%20network/runs/r0iu95q6' target=\"_blank\">https://wandb.ai/ildarnikitin20/Oil%20neural%20network/runs/r0iu95q6</a><br/>Synced 6 W&B file(s), 0 media file(s), 0 artifact file(s) and 0 other file(s)"
      ],
      "text/plain": [
       "<IPython.core.display.HTML object>"
      ]
     },
     "metadata": {},
     "output_type": "display_data"
    },
    {
     "data": {
      "text/html": [
       "Find logs at: <code>.\\wandb\\run-20230414_022744-r0iu95q6\\logs</code>"
      ],
      "text/plain": [
       "<IPython.core.display.HTML object>"
      ]
     },
     "metadata": {},
     "output_type": "display_data"
    },
    {
     "name": "stdout",
     "output_type": "stream",
     "text": [
      "Success\n"
     ]
    }
   ],
   "source": [
    "N_EPOCHS = 1000\n",
    "PATIENCE = 50\n",
    "FACTOR = 0.3\n",
    "\n",
    "KERNEL_SIZE = 10\n",
    "\n",
    "model = GAT(hidden_dim, num_heads).to(device)\n",
    "\n",
    "LR = 0.001\n",
    "optimizer = torch.optim.Adam(model.parameters(), lr=LR)\n",
    "scheduler = torch.optim.lr_scheduler.ReduceLROnPlateau(optimizer, patience=PATIENCE, factor=FACTOR)\n",
    "criterion = nn.MSELoss()\n",
    "torch.manual_seed(0)\n",
    "\n",
    "experiment_name = f'GAT'\n",
    "notes = f'''\n",
    "Optimizer: Adam({LR=})\n",
    "Scheduler: ReduceLROnPlateau({PATIENCE=}, {FACTOR=})\n",
    "{hidden_dim=};\n",
    "'''\n",
    "\n",
    "wandb.init(\n",
    "    project='Oil neural network',\n",
    "    name=experiment_name,\n",
    "    notes=notes\n",
    ")\n",
    "\n",
    "try:\n",
    "    train_gnn(model, optimizer, criterion, scheduler, train_loader=train_loader, val_loader=val_loader, n_epochs=N_EPOCHS, baseline_rmse=BASELINE_RMSE, plot_baseline=True)\n",
    "except KeyboardInterrupt:\n",
    "    print('KeyboardInterrupt')\n",
    "    wandb.finish()\n",
    "\n",
    "print('Success')"
   ]
  },
  {
   "cell_type": "code",
   "execution_count": null,
   "metadata": {},
   "outputs": [],
   "source": []
  },
  {
   "cell_type": "code",
   "execution_count": null,
   "metadata": {},
   "outputs": [],
   "source": []
  }
 ],
 "metadata": {
  "kernelspec": {
   "display_name": "Python 3 (ipykernel)",
   "language": "python",
   "name": "python3"
  },
  "language_info": {
   "codemirror_mode": {
    "name": "ipython",
    "version": 3
   },
   "file_extension": ".py",
   "mimetype": "text/x-python",
   "name": "python",
   "nbconvert_exporter": "python",
   "pygments_lexer": "ipython3",
   "version": "3.9.16"
  }
 },
 "nbformat": 4,
 "nbformat_minor": 1
}
