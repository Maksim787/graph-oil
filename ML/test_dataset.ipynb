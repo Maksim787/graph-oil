{
 "cells": [
  {
   "cell_type": "code",
   "execution_count": 1,
   "outputs": [
    {
     "name": "stdout",
     "output_type": "stream",
     "text": [
      "(241, 10, 114, 3)\n",
      "(241, 10, 114)\n",
      "15.263157894736842 %\n"
     ]
    }
   ],
   "source": [
    "import numpy as np\n",
    "import pandas as pd\n",
    "from pathlib import Path\n",
    "\n",
    "f = np.load(str(Path('../data/features_(n_iterations, n_wells, n_dates, n_features).npy')))\n",
    "t = np.load(str(Path('../data/targets_(n_iterations, n_wells, n_dates).npy')))\n",
    "\n",
    "n_iterations, n_wells, n_dates, n_features = f.shape\n",
    "assert t.shape == (n_iterations, n_wells, n_dates)\n",
    "\n",
    "print(f.shape)\n",
    "print(t.shape)\n",
    "\n",
    "assert np.isnan(t).sum() == 0\n",
    "print(np.isnan(f).sum() / np.prod(f.shape) * 100, '%')"
   ],
   "metadata": {
    "collapsed": false,
    "pycharm": {
     "name": "#%%\n"
    }
   }
  },
  {
   "cell_type": "code",
   "execution_count": 2,
   "outputs": [
    {
     "name": "stdout",
     "output_type": "stream",
     "text": [
      "well=0: 89.5% NaN\n",
      "well=1: 0.0% NaN\n",
      "well=2: 0.0% NaN\n",
      "well=3: 0.0% NaN\n",
      "well=4: 5.3% NaN\n",
      "well=5: 5.3% NaN\n",
      "well=6: 15.8% NaN\n",
      "well=7: 10.5% NaN\n",
      "well=8: 10.5% NaN\n",
      "well=9: 15.8% NaN\n"
     ]
    }
   ],
   "source": [
    "def get_well(f, t, well):\n",
    "    well_t = t[:, well, :]\n",
    "    well_f = f[:, well, :, :]\n",
    "    well_f = well_f.reshape((-1, 3))\n",
    "    well_t = well_t.reshape(-1)\n",
    "    return well_f, well_t\n",
    "\n",
    "\n",
    "for well in range(10):\n",
    "    well_f, well_t = get_well(f, t, well)\n",
    "    print(f'well={well}: {np.isnan(well_f).sum() / np.prod(well_f.shape) * 100:.1f}% NaN')"
   ],
   "metadata": {
    "collapsed": false,
    "pycharm": {
     "name": "#%%\n"
    }
   }
  },
  {
   "cell_type": "code",
   "execution_count": 3,
   "outputs": [],
   "source": [
    "def get_train_test(f, t, well, train_size=0.7):\n",
    "    well_f, well_t = get_well(f, t, well)\n",
    "    is_nan = (np.isnan(well_f).sum(axis=1) >= 1)\n",
    "    well_f = well_f[~is_nan]\n",
    "    well_t = well_t[~is_nan]\n",
    "    x_train, x_test, y_train, y_test = train_test_split(well_f, well_t, train_size=train_size, random_state=0)\n",
    "    return x_train, x_test, y_train, y_test"
   ],
   "metadata": {
    "collapsed": false,
    "pycharm": {
     "name": "#%%\n"
    }
   }
  },
  {
   "cell_type": "code",
   "execution_count": 4,
   "outputs": [],
   "source": [
    "from sklearn.linear_model import RidgeCV, LassoCV, LinearRegression\n",
    "from sklearn.metrics import mean_squared_error\n",
    "from sklearn.model_selection import train_test_split\n",
    "from sklearn.preprocessing import StandardScaler"
   ],
   "metadata": {
    "collapsed": false,
    "pycharm": {
     "name": "#%%\n"
    }
   }
  },
  {
   "cell_type": "code",
   "execution_count": 5,
   "outputs": [
    {
     "data": {
      "text/plain": "      n_observations  const PRED  const RMSE  LinearRegression RMSE  \\\nwell                                                                  \n0               2024    4.719395    8.208672               8.079176   \n1              19231    6.445017    5.042689               3.612191   \n2              19231    7.668444    4.636348               3.295152   \n3              19231    8.061961    4.915286               3.447397   \n4              18219    7.120315    4.425542               3.170238   \n5              18219    5.729247    5.679621               4.989903   \n6              16195    3.780596    2.741828               2.262759   \n7              17207    6.343900    4.157634               3.217761   \n8              17207    7.716262    4.925156               3.612658   \n9              16195    7.956582    6.350457               4.896427   \n\n      RidgeCV RMSE  LassoCV RMSE  LinearRegression INTERCEPT  \\\nwell                                                           \n0         8.079134      8.079180                    4.719395   \n1         3.612193      3.612189                    6.445017   \n2         3.295120      3.295150                    7.668444   \n3         3.447407      3.447404                    8.061961   \n4         3.170224      3.170246                    7.120315   \n5         4.990301      4.989969                    5.729247   \n6         2.262776      2.262744                    3.780596   \n7         3.217833      3.217769                    6.343900   \n8         3.612635      3.612657                    7.716262   \n9         4.896437      4.896420                    7.956582   \n\n      RidgeCV INTERCEPT  LassoCV INTERCEPT  \\\nwell                                         \n0              4.719395           4.719395   \n1              6.445017           6.445017   \n2              7.668444           7.668444   \n3              8.061961           8.061961   \n4              7.120315           7.120315   \n5              5.729247           5.729247   \n6              3.780596           3.780596   \n7              6.343900           6.343900   \n8              7.716262           7.716262   \n9              7.956582           7.956582   \n\n                                  LinearRegression COEF  \\\nwell                                                      \n0         [0.7975920670553084, 0.0, 1.0157992880090927]   \n1     [1.7879273336872115, -0.03834291513380507, 1.9...   \n2     [1.6764694412256174, -0.14021070051599424, 1.8...   \n3     [1.9446726584533585, -0.06617940801421736, 1.7...   \n4     [1.7059511770770255, -0.18655073345449025, 1.6...   \n5     [1.5113918607207573, 0.7304563275450469, 1.226...   \n6     [0.8110579848754752, 0.046302124153983236, 0.8...   \n7     [1.4061398432041439, 0.17215809940339047, 1.41...   \n8     [1.8055651723460087, 0.2580540362225022, 1.867...   \n9     [2.2918393562583184, -0.0690381483418468, 2.24...   \n\n                                           RidgeCV COEF  \\\nwell                                                      \n0         [0.7539243467063641, 0.0, 0.9540377477785056]   \n1     [1.7866781707562103, -0.038950149723245175, 1....   \n2     [1.675673129142826, -0.14000818531484172, 1.81...   \n3     [1.9421307308460882, -0.06673670740792703, 1.7...   \n4     [1.7041874317120946, -0.18639994458340814, 1.6...   \n5     [1.505375792590998, 0.7280640698392206, 1.2230...   \n6     [0.8094874033009396, 0.04628207814422147, 0.86...   \n7     [1.4043433070106792, 0.1716533353858134, 1.415...   \n8     [1.8038811279560534, 0.2577118659794966, 1.865...   \n9     [2.2875126805766257, -0.06804580075882694, 2.2...   \n\n                                           LassoCV COEF  RidgeCV ALPHA  \\\nwell                                                                     \n0         [0.7972447266296483, 0.0, 1.0154515837708096]     148.496826   \n1     [1.7880342580626234, -0.038192712557793745, 1....      29.150531   \n2     [1.6765260332588556, -0.13994575038859974, 1.8...      23.101297   \n3     [1.9447641757510326, -0.06592502499592122, 1.7...      29.150531   \n4     [1.7055901215437839, -0.185767049094055, 1.629...      29.150531   \n5     [1.5107158767247815, 0.7295982306440664, 1.226...      93.260335   \n6     [0.8107873669674166, 0.04580581675836958, 0.86...      58.570208   \n7     [1.4059055994133618, 0.17161060373282055, 1.41...      36.783798   \n8     [1.8055861489305356, 0.2580448094398375, 1.867...      29.150531   \n9     [2.2915448335887705, -0.0684415031174111, 2.24...      46.415888   \n\n      LassoCV ALPHA  \nwell                 \n0          0.000413  \n1          0.000206  \n2          0.000260  \n3          0.000327  \n4          0.000830  \n5          0.001048  \n6          0.000521  \n7          0.000521  \n8          0.000010  \n9          0.000521  ",
      "text/html": "<div>\n<style scoped>\n    .dataframe tbody tr th:only-of-type {\n        vertical-align: middle;\n    }\n\n    .dataframe tbody tr th {\n        vertical-align: top;\n    }\n\n    .dataframe thead th {\n        text-align: right;\n    }\n</style>\n<table border=\"1\" class=\"dataframe\">\n  <thead>\n    <tr style=\"text-align: right;\">\n      <th></th>\n      <th>n_observations</th>\n      <th>const PRED</th>\n      <th>const RMSE</th>\n      <th>LinearRegression RMSE</th>\n      <th>RidgeCV RMSE</th>\n      <th>LassoCV RMSE</th>\n      <th>LinearRegression INTERCEPT</th>\n      <th>RidgeCV INTERCEPT</th>\n      <th>LassoCV INTERCEPT</th>\n      <th>LinearRegression COEF</th>\n      <th>RidgeCV COEF</th>\n      <th>LassoCV COEF</th>\n      <th>RidgeCV ALPHA</th>\n      <th>LassoCV ALPHA</th>\n    </tr>\n    <tr>\n      <th>well</th>\n      <th></th>\n      <th></th>\n      <th></th>\n      <th></th>\n      <th></th>\n      <th></th>\n      <th></th>\n      <th></th>\n      <th></th>\n      <th></th>\n      <th></th>\n      <th></th>\n      <th></th>\n      <th></th>\n    </tr>\n  </thead>\n  <tbody>\n    <tr>\n      <th>0</th>\n      <td>2024</td>\n      <td>4.719395</td>\n      <td>8.208672</td>\n      <td>8.079176</td>\n      <td>8.079134</td>\n      <td>8.079180</td>\n      <td>4.719395</td>\n      <td>4.719395</td>\n      <td>4.719395</td>\n      <td>[0.7975920670553084, 0.0, 1.0157992880090927]</td>\n      <td>[0.7539243467063641, 0.0, 0.9540377477785056]</td>\n      <td>[0.7972447266296483, 0.0, 1.0154515837708096]</td>\n      <td>148.496826</td>\n      <td>0.000413</td>\n    </tr>\n    <tr>\n      <th>1</th>\n      <td>19231</td>\n      <td>6.445017</td>\n      <td>5.042689</td>\n      <td>3.612191</td>\n      <td>3.612193</td>\n      <td>3.612189</td>\n      <td>6.445017</td>\n      <td>6.445017</td>\n      <td>6.445017</td>\n      <td>[1.7879273336872115, -0.03834291513380507, 1.9...</td>\n      <td>[1.7866781707562103, -0.038950149723245175, 1....</td>\n      <td>[1.7880342580626234, -0.038192712557793745, 1....</td>\n      <td>29.150531</td>\n      <td>0.000206</td>\n    </tr>\n    <tr>\n      <th>2</th>\n      <td>19231</td>\n      <td>7.668444</td>\n      <td>4.636348</td>\n      <td>3.295152</td>\n      <td>3.295120</td>\n      <td>3.295150</td>\n      <td>7.668444</td>\n      <td>7.668444</td>\n      <td>7.668444</td>\n      <td>[1.6764694412256174, -0.14021070051599424, 1.8...</td>\n      <td>[1.675673129142826, -0.14000818531484172, 1.81...</td>\n      <td>[1.6765260332588556, -0.13994575038859974, 1.8...</td>\n      <td>23.101297</td>\n      <td>0.000260</td>\n    </tr>\n    <tr>\n      <th>3</th>\n      <td>19231</td>\n      <td>8.061961</td>\n      <td>4.915286</td>\n      <td>3.447397</td>\n      <td>3.447407</td>\n      <td>3.447404</td>\n      <td>8.061961</td>\n      <td>8.061961</td>\n      <td>8.061961</td>\n      <td>[1.9446726584533585, -0.06617940801421736, 1.7...</td>\n      <td>[1.9421307308460882, -0.06673670740792703, 1.7...</td>\n      <td>[1.9447641757510326, -0.06592502499592122, 1.7...</td>\n      <td>29.150531</td>\n      <td>0.000327</td>\n    </tr>\n    <tr>\n      <th>4</th>\n      <td>18219</td>\n      <td>7.120315</td>\n      <td>4.425542</td>\n      <td>3.170238</td>\n      <td>3.170224</td>\n      <td>3.170246</td>\n      <td>7.120315</td>\n      <td>7.120315</td>\n      <td>7.120315</td>\n      <td>[1.7059511770770255, -0.18655073345449025, 1.6...</td>\n      <td>[1.7041874317120946, -0.18639994458340814, 1.6...</td>\n      <td>[1.7055901215437839, -0.185767049094055, 1.629...</td>\n      <td>29.150531</td>\n      <td>0.000830</td>\n    </tr>\n    <tr>\n      <th>5</th>\n      <td>18219</td>\n      <td>5.729247</td>\n      <td>5.679621</td>\n      <td>4.989903</td>\n      <td>4.990301</td>\n      <td>4.989969</td>\n      <td>5.729247</td>\n      <td>5.729247</td>\n      <td>5.729247</td>\n      <td>[1.5113918607207573, 0.7304563275450469, 1.226...</td>\n      <td>[1.505375792590998, 0.7280640698392206, 1.2230...</td>\n      <td>[1.5107158767247815, 0.7295982306440664, 1.226...</td>\n      <td>93.260335</td>\n      <td>0.001048</td>\n    </tr>\n    <tr>\n      <th>6</th>\n      <td>16195</td>\n      <td>3.780596</td>\n      <td>2.741828</td>\n      <td>2.262759</td>\n      <td>2.262776</td>\n      <td>2.262744</td>\n      <td>3.780596</td>\n      <td>3.780596</td>\n      <td>3.780596</td>\n      <td>[0.8110579848754752, 0.046302124153983236, 0.8...</td>\n      <td>[0.8094874033009396, 0.04628207814422147, 0.86...</td>\n      <td>[0.8107873669674166, 0.04580581675836958, 0.86...</td>\n      <td>58.570208</td>\n      <td>0.000521</td>\n    </tr>\n    <tr>\n      <th>7</th>\n      <td>17207</td>\n      <td>6.343900</td>\n      <td>4.157634</td>\n      <td>3.217761</td>\n      <td>3.217833</td>\n      <td>3.217769</td>\n      <td>6.343900</td>\n      <td>6.343900</td>\n      <td>6.343900</td>\n      <td>[1.4061398432041439, 0.17215809940339047, 1.41...</td>\n      <td>[1.4043433070106792, 0.1716533353858134, 1.415...</td>\n      <td>[1.4059055994133618, 0.17161060373282055, 1.41...</td>\n      <td>36.783798</td>\n      <td>0.000521</td>\n    </tr>\n    <tr>\n      <th>8</th>\n      <td>17207</td>\n      <td>7.716262</td>\n      <td>4.925156</td>\n      <td>3.612658</td>\n      <td>3.612635</td>\n      <td>3.612657</td>\n      <td>7.716262</td>\n      <td>7.716262</td>\n      <td>7.716262</td>\n      <td>[1.8055651723460087, 0.2580540362225022, 1.867...</td>\n      <td>[1.8038811279560534, 0.2577118659794966, 1.865...</td>\n      <td>[1.8055861489305356, 0.2580448094398375, 1.867...</td>\n      <td>29.150531</td>\n      <td>0.000010</td>\n    </tr>\n    <tr>\n      <th>9</th>\n      <td>16195</td>\n      <td>7.956582</td>\n      <td>6.350457</td>\n      <td>4.896427</td>\n      <td>4.896437</td>\n      <td>4.896420</td>\n      <td>7.956582</td>\n      <td>7.956582</td>\n      <td>7.956582</td>\n      <td>[2.2918393562583184, -0.0690381483418468, 2.24...</td>\n      <td>[2.2875126805766257, -0.06804580075882694, 2.2...</td>\n      <td>[2.2915448335887705, -0.0684415031174111, 2.24...</td>\n      <td>46.415888</td>\n      <td>0.000521</td>\n    </tr>\n  </tbody>\n</table>\n</div>"
     },
     "execution_count": 5,
     "metadata": {},
     "output_type": "execute_result"
    }
   ],
   "source": [
    "alphas = np.geomspace(1e-5, 1e5, 100)\n",
    "models = [LinearRegression(), RidgeCV(alphas=alphas), LassoCV(alphas=alphas)]\n",
    "scaler = StandardScaler()\n",
    "\n",
    "models_names = [model.__class__.__name__ for model in models]\n",
    "models_rmse_names = [f'{model_name} RMSE' for model_name in models_names]\n",
    "models_intercept = [f'{model_name} INTERCEPT' for model_name in models_names]\n",
    "models_coef = [f'{model_name} COEF' for model_name in models_names]\n",
    "models_alpha = [f'{model_name} ALPHA' for model_name in models_names if model_name != 'LinearRegression']\n",
    "columns = ['well', 'n_observations', 'const PRED', 'const RMSE'] + models_rmse_names + models_intercept + models_coef + models_alpha\n",
    "\n",
    "results = pd.DataFrame(columns=columns).set_index('well')\n",
    "\n",
    "for well in range(10):\n",
    "    x_train, x_test, y_train, y_test = get_train_test(f, t, well)\n",
    "\n",
    "    const_prediction = y_train.mean()\n",
    "    const_rmse = mean_squared_error(np.full_like(y_test, const_prediction), y_test, squared=False)\n",
    "\n",
    "    models_rmse = []\n",
    "    models_intercept = []\n",
    "    models_coef = []\n",
    "    models_alpha = []\n",
    "\n",
    "    for model in models:\n",
    "        model.fit(scaler.fit_transform(x_train), y_train)\n",
    "        rmse = mean_squared_error(model.predict(scaler.transform(x_test)), y_test, squared=False)\n",
    "        models_rmse.append(rmse)\n",
    "        models_intercept.append(model.intercept_)\n",
    "        models_coef.append(model.coef_)\n",
    "        if not isinstance(model, LinearRegression):\n",
    "            models_alpha.append(model.alpha_)\n",
    "\n",
    "    results.loc[well] = [x_train.shape[0], const_prediction, const_rmse] + models_rmse + models_intercept + models_coef + models_alpha\n",
    "results"
   ],
   "metadata": {
    "collapsed": false,
    "pycharm": {
     "name": "#%%\n"
    }
   }
  },
  {
   "cell_type": "code",
   "execution_count": 5,
   "outputs": [],
   "source": [],
   "metadata": {
    "collapsed": false,
    "pycharm": {
     "name": "#%%\n"
    }
   }
  }
 ],
 "metadata": {
  "kernelspec": {
   "display_name": "Python 3",
   "language": "python",
   "name": "python3"
  },
  "language_info": {
   "codemirror_mode": {
    "name": "ipython",
    "version": 2
   },
   "file_extension": ".py",
   "mimetype": "text/x-python",
   "name": "python",
   "nbconvert_exporter": "python",
   "pygments_lexer": "ipython2",
   "version": "2.7.6"
  }
 },
 "nbformat": 4,
 "nbformat_minor": 0
}