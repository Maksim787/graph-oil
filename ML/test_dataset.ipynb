{
 "cells": [
  {
   "cell_type": "code",
   "execution_count": 77,
   "outputs": [
    {
     "name": "stdout",
     "output_type": "stream",
     "text": [
      "(180, 9, 114, 3)\n",
      "(180, 9, 114)\n",
      "7.017543859649122 %\n"
     ]
    }
   ],
   "source": [
    "import numpy as np\n",
    "from pathlib import Path\n",
    "\n",
    "f = np.load(str(Path('../data/features_(n_iterations, n_wells, n_dates, n_features).npy')))\n",
    "t = np.load(str(Path('../data/targets_(n_iterations, n_wells, n_dates).npy')))\n",
    "\n",
    "n_iterations, n_wells, n_dates, n_features = f.shape\n",
    "assert t.shape == (n_iterations, n_wells, n_dates)\n",
    "\n",
    "print(f.shape)\n",
    "print(t.shape)\n",
    "\n",
    "assert np.isnan(t).sum() == 0\n",
    "print(np.isnan(f).sum() / np.prod(f.shape) * 100, '%')"
   ],
   "metadata": {
    "collapsed": false,
    "pycharm": {
     "name": "#%%\n"
    }
   }
  },
  {
   "cell_type": "code",
   "execution_count": null,
   "outputs": [],
   "source": [],
   "metadata": {
    "collapsed": false,
    "pycharm": {
     "name": "#%%\n"
    }
   }
  }
 ],
 "metadata": {
  "kernelspec": {
   "display_name": "Python 3",
   "language": "python",
   "name": "python3"
  },
  "language_info": {
   "codemirror_mode": {
    "name": "ipython",
    "version": 2
   },
   "file_extension": ".py",
   "mimetype": "text/x-python",
   "name": "python",
   "nbconvert_exporter": "python",
   "pygments_lexer": "ipython2",
   "version": "2.7.6"
  }
 },
 "nbformat": 4,
 "nbformat_minor": 0
}