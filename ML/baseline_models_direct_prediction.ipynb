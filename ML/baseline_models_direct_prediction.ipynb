{
 "cells": [
  {
   "cell_type": "markdown",
   "source": [
    "# Load data"
   ],
   "metadata": {
    "collapsed": false
   }
  },
  {
   "cell_type": "code",
   "execution_count": 3,
   "outputs": [
    {
     "name": "stdout",
     "output_type": "stream",
     "text": [
      "(429, 10, 114, 3)\n",
      "(429, 10, 114)\n",
      "15.263157894736842 %\n"
     ]
    }
   ],
   "source": [
    "import numpy as np\n",
    "import pandas as pd\n",
    "from pathlib import Path\n",
    "from sklearn.model_selection import train_test_split\n",
    "\n",
    "f = np.load(str(Path('../data/features_(n_iterations, n_wells, n_dates, n_features).npy')))\n",
    "t = np.load(str(Path('../data/targets_(n_iterations, n_wells, n_dates).npy')))\n",
    "\n",
    "n_iterations, n_wells, n_dates, n_features = f.shape\n",
    "assert t.shape == (n_iterations, n_wells, n_dates)\n",
    "\n",
    "print(f.shape)\n",
    "print(t.shape)\n",
    "\n",
    "assert np.isnan(t).sum() == 0\n",
    "print(np.isnan(f).sum() / np.prod(f.shape) * 100, '%')"
   ],
   "metadata": {
    "collapsed": false,
    "pycharm": {
     "name": "#%%\n"
    }
   }
  },
  {
   "cell_type": "markdown",
   "source": [
    "# Count NaNs"
   ],
   "metadata": {
    "collapsed": false
   }
  },
  {
   "cell_type": "code",
   "execution_count": 4,
   "outputs": [
    {
     "name": "stdout",
     "output_type": "stream",
     "text": [
      "well=0: 89.5% NaN; First not NaN at 0.184%\n",
      "well=1: 0.0% NaN; First not NaN at 0.000%\n",
      "well=2: 0.0% NaN; First not NaN at 0.000%\n",
      "well=3: 0.0% NaN; First not NaN at 0.000%\n",
      "well=4: 5.3% NaN; First not NaN at 0.012%\n",
      "well=5: 5.3% NaN; First not NaN at 0.012%\n",
      "well=6: 15.8% NaN; First not NaN at 0.012%\n",
      "well=7: 10.5% NaN; First not NaN at 0.025%\n",
      "well=8: 10.5% NaN; First not NaN at 0.025%\n",
      "well=9: 15.8% NaN; First not NaN at 0.037%\n"
     ]
    }
   ],
   "source": [
    "def get_well(f, t, well):\n",
    "    well_t = t[:, well, :]\n",
    "    well_f = f[:, well, :, :]\n",
    "    well_f = well_f.reshape((-1, 3))\n",
    "    well_t = well_t.reshape(-1)\n",
    "    return well_f, well_t\n",
    "\n",
    "\n",
    "def first_true_index(arr):\n",
    "    for i in range(len(arr)):\n",
    "        if arr[i]:\n",
    "            return i\n",
    "    return len(arr)\n",
    "\n",
    "\n",
    "for well in range(10):\n",
    "    well_f, well_t = get_well(f, t, well)\n",
    "    nan_pct = np.isnan(well_f).sum() / np.prod(well_f.shape) * 100\n",
    "    is_nan = (np.isnan(well_f).sum(axis=1) >= 1)\n",
    "    first_not_nan = first_true_index(~is_nan) / well_f.shape[0] * 100\n",
    "    print(f'well={well}: {nan_pct:.1f}% NaN; First not NaN at {first_not_nan:.3f}%')"
   ],
   "metadata": {
    "collapsed": false,
    "pycharm": {
     "name": "#%%\n"
    }
   }
  },
  {
   "cell_type": "markdown",
   "source": [
    "# Fit linear regressions for each well ignoring time feature"
   ],
   "metadata": {
    "collapsed": false
   }
  },
  {
   "cell_type": "code",
   "execution_count": 5,
   "outputs": [],
   "source": [
    "def get_train_test(f, t, well, train_size=0.7):\n",
    "    well_f, well_t = get_well(f, t, well)\n",
    "\n",
    "    # fill NaNs\n",
    "    well_f = pd.DataFrame(well_f).bfill().ffill().values\n",
    "\n",
    "    x_train, x_test, y_train, y_test = train_test_split(well_f, well_t, train_size=train_size, random_state=0)\n",
    "    return x_train, x_test, y_train, y_test"
   ],
   "metadata": {
    "collapsed": false,
    "pycharm": {
     "name": "#%%\n"
    }
   }
  },
  {
   "cell_type": "code",
   "execution_count": 6,
   "outputs": [],
   "source": [
    "from sklearn.linear_model import RidgeCV, LassoCV, LinearRegression\n",
    "from sklearn.metrics import mean_squared_error\n",
    "from sklearn.preprocessing import StandardScaler"
   ],
   "metadata": {
    "collapsed": false,
    "pycharm": {
     "name": "#%%\n"
    }
   }
  },
  {
   "cell_type": "code",
   "execution_count": 7,
   "outputs": [
    {
     "data": {
      "text/plain": "      n_observations  const PRED  const RMSE  LinearRegression RMSE  \\\nwell                                                                  \n0              34234    0.500918    2.998539               2.981964   \n1              34234    6.463862    5.024301               3.596286   \n2              34234    7.695755    4.601901               3.204100   \n3              34234    8.051013    4.883879               3.416496   \n4              34234    6.728756    4.621981               4.202569   \n5              34234    5.443310    5.479867               5.064390   \n6              34234    3.193271    2.842239               2.808244   \n7              34234    5.676931    4.376917               3.708355   \n8              34234    6.915827    5.235305               4.204916   \n9              34234    6.734404    6.494226               5.358177   \n\n      RidgeCV RMSE  LassoCV RMSE  LinearRegression INTERCEPT  \\\nwell                                                           \n0         2.981960      2.981964                    0.500918   \n1         3.596309      3.596285                    6.463862   \n2         3.204098      3.204100                    7.695755   \n3         3.416492      3.416496                    8.051013   \n4         4.202600      4.202569                    6.728756   \n5         5.064359      5.064383                    5.443310   \n6         2.808244      2.808243                    3.193271   \n7         3.708347      3.708354                    5.676931   \n8         4.204903      4.204918                    6.915827   \n9         5.358225      5.358195                    6.734404   \n\n      RidgeCV INTERCEPT  LassoCV INTERCEPT  \\\nwell                                         \n0              0.500918           0.500918   \n1              6.463862           6.463862   \n2              7.695755           7.695755   \n3              8.051013           8.051013   \n4              6.728756           6.728756   \n5              5.443310           5.443310   \n6              3.193271           3.193271   \n7              5.676931           5.676931   \n8              6.915827           6.915827   \n9              6.734404           6.734404   \n\n                                  LinearRegression COEF  \\\nwell                                                      \n0      [-0.23506086368824908, 0.0, -0.2099226644914552]   \n1     [1.7914484249372584, -0.058868351956775936, 1....   \n2     [1.7187185088061048, -0.1436125295275052, 1.78...   \n3     [1.8884594094048994, -0.07585002470507024, 1.7...   \n4     [1.0947011064785475, 0.09651729815874177, 0.94...   \n5     [1.0902554164959775, 1.043825740522677, 0.9446...   \n6     [0.1810165927956606, 0.2263391923949405, 0.235...   \n7     [1.296163623569839, 0.48693504609373106, 1.280...   \n8     [1.6987490171163586, 0.758105674297957, 1.7343...   \n9     [1.7879339672211447, -2.414234871598664, 1.992...   \n\n                                           RidgeCV COEF  \\\nwell                                                      \n0     [-0.23354029345021426, 0.0, -0.20858726097436694]   \n1     [1.7907074305837583, -0.05918968455076801, 1.8...   \n2     [1.718016330653155, -0.14346033859187646, 1.78...   \n3     [1.8872890821212147, -0.07615177339522994, 1.7...   \n4     [1.0916143962140197, 0.09576420035115696, 0.94...   \n5     [1.087582589446627, 1.0407155902697562, 0.9428...   \n6     [0.18054371734777774, 0.22316563337330936, 0.2...   \n7     [1.295278833379438, 0.48632960846265627, 1.279...   \n8     [1.6978697389581308, 0.7575137846358517, 1.733...   \n9     [1.7868263503183421, -2.4116136979252056, 1.99...   \n\n                                           LassoCV COEF  RidgeCV ALPHA  \\\nwell                                                                     \n0      [-0.2350515128064897, 0.0, -0.20991331189816176]     236.448941   \n1     [1.791616410811122, -0.058841576642061584, 1.8...      29.150531   \n2     [1.718729861172503, -0.1436022596458915, 1.789...      29.150531   \n3     [1.8885852718960443, -0.07565095993664478, 1.7...      29.150531   \n4     [1.0946673549026895, 0.09642456929240446, 0.94...     117.681195   \n5     [1.089836379927404, 1.0432575545272889, 0.9442...     117.681195   \n6     [0.18054414755848852, 0.22548747652291415, 0.2...     475.081016   \n7     [1.296125570942752, 0.48679674155034186, 1.280...      36.783798   \n8     [1.6985970343528534, 0.7577909016813789, 1.734...      29.150531   \n9     [1.7874356554558561, -2.4133520274065425, 1.99...      29.150531   \n\n      LassoCV ALPHA  \nwell                 \n0          0.000010  \n1          0.000051  \n2          0.000010  \n3          0.000260  \n4          0.000081  \n5          0.000658  \n6          0.000830  \n7          0.000129  \n8          0.000327  \n9          0.000658  ",
      "text/html": "<div>\n<style scoped>\n    .dataframe tbody tr th:only-of-type {\n        vertical-align: middle;\n    }\n\n    .dataframe tbody tr th {\n        vertical-align: top;\n    }\n\n    .dataframe thead th {\n        text-align: right;\n    }\n</style>\n<table border=\"1\" class=\"dataframe\">\n  <thead>\n    <tr style=\"text-align: right;\">\n      <th></th>\n      <th>n_observations</th>\n      <th>const PRED</th>\n      <th>const RMSE</th>\n      <th>LinearRegression RMSE</th>\n      <th>RidgeCV RMSE</th>\n      <th>LassoCV RMSE</th>\n      <th>LinearRegression INTERCEPT</th>\n      <th>RidgeCV INTERCEPT</th>\n      <th>LassoCV INTERCEPT</th>\n      <th>LinearRegression COEF</th>\n      <th>RidgeCV COEF</th>\n      <th>LassoCV COEF</th>\n      <th>RidgeCV ALPHA</th>\n      <th>LassoCV ALPHA</th>\n    </tr>\n    <tr>\n      <th>well</th>\n      <th></th>\n      <th></th>\n      <th></th>\n      <th></th>\n      <th></th>\n      <th></th>\n      <th></th>\n      <th></th>\n      <th></th>\n      <th></th>\n      <th></th>\n      <th></th>\n      <th></th>\n      <th></th>\n    </tr>\n  </thead>\n  <tbody>\n    <tr>\n      <th>0</th>\n      <td>34234</td>\n      <td>0.500918</td>\n      <td>2.998539</td>\n      <td>2.981964</td>\n      <td>2.981960</td>\n      <td>2.981964</td>\n      <td>0.500918</td>\n      <td>0.500918</td>\n      <td>0.500918</td>\n      <td>[-0.23506086368824908, 0.0, -0.2099226644914552]</td>\n      <td>[-0.23354029345021426, 0.0, -0.20858726097436694]</td>\n      <td>[-0.2350515128064897, 0.0, -0.20991331189816176]</td>\n      <td>236.448941</td>\n      <td>0.000010</td>\n    </tr>\n    <tr>\n      <th>1</th>\n      <td>34234</td>\n      <td>6.463862</td>\n      <td>5.024301</td>\n      <td>3.596286</td>\n      <td>3.596309</td>\n      <td>3.596285</td>\n      <td>6.463862</td>\n      <td>6.463862</td>\n      <td>6.463862</td>\n      <td>[1.7914484249372584, -0.058868351956775936, 1....</td>\n      <td>[1.7907074305837583, -0.05918968455076801, 1.8...</td>\n      <td>[1.791616410811122, -0.058841576642061584, 1.8...</td>\n      <td>29.150531</td>\n      <td>0.000051</td>\n    </tr>\n    <tr>\n      <th>2</th>\n      <td>34234</td>\n      <td>7.695755</td>\n      <td>4.601901</td>\n      <td>3.204100</td>\n      <td>3.204098</td>\n      <td>3.204100</td>\n      <td>7.695755</td>\n      <td>7.695755</td>\n      <td>7.695755</td>\n      <td>[1.7187185088061048, -0.1436125295275052, 1.78...</td>\n      <td>[1.718016330653155, -0.14346033859187646, 1.78...</td>\n      <td>[1.718729861172503, -0.1436022596458915, 1.789...</td>\n      <td>29.150531</td>\n      <td>0.000010</td>\n    </tr>\n    <tr>\n      <th>3</th>\n      <td>34234</td>\n      <td>8.051013</td>\n      <td>4.883879</td>\n      <td>3.416496</td>\n      <td>3.416492</td>\n      <td>3.416496</td>\n      <td>8.051013</td>\n      <td>8.051013</td>\n      <td>8.051013</td>\n      <td>[1.8884594094048994, -0.07585002470507024, 1.7...</td>\n      <td>[1.8872890821212147, -0.07615177339522994, 1.7...</td>\n      <td>[1.8885852718960443, -0.07565095993664478, 1.7...</td>\n      <td>29.150531</td>\n      <td>0.000260</td>\n    </tr>\n    <tr>\n      <th>4</th>\n      <td>34234</td>\n      <td>6.728756</td>\n      <td>4.621981</td>\n      <td>4.202569</td>\n      <td>4.202600</td>\n      <td>4.202569</td>\n      <td>6.728756</td>\n      <td>6.728756</td>\n      <td>6.728756</td>\n      <td>[1.0947011064785475, 0.09651729815874177, 0.94...</td>\n      <td>[1.0916143962140197, 0.09576420035115696, 0.94...</td>\n      <td>[1.0946673549026895, 0.09642456929240446, 0.94...</td>\n      <td>117.681195</td>\n      <td>0.000081</td>\n    </tr>\n    <tr>\n      <th>5</th>\n      <td>34234</td>\n      <td>5.443310</td>\n      <td>5.479867</td>\n      <td>5.064390</td>\n      <td>5.064359</td>\n      <td>5.064383</td>\n      <td>5.443310</td>\n      <td>5.443310</td>\n      <td>5.443310</td>\n      <td>[1.0902554164959775, 1.043825740522677, 0.9446...</td>\n      <td>[1.087582589446627, 1.0407155902697562, 0.9428...</td>\n      <td>[1.089836379927404, 1.0432575545272889, 0.9442...</td>\n      <td>117.681195</td>\n      <td>0.000658</td>\n    </tr>\n    <tr>\n      <th>6</th>\n      <td>34234</td>\n      <td>3.193271</td>\n      <td>2.842239</td>\n      <td>2.808244</td>\n      <td>2.808244</td>\n      <td>2.808243</td>\n      <td>3.193271</td>\n      <td>3.193271</td>\n      <td>3.193271</td>\n      <td>[0.1810165927956606, 0.2263391923949405, 0.235...</td>\n      <td>[0.18054371734777774, 0.22316563337330936, 0.2...</td>\n      <td>[0.18054414755848852, 0.22548747652291415, 0.2...</td>\n      <td>475.081016</td>\n      <td>0.000830</td>\n    </tr>\n    <tr>\n      <th>7</th>\n      <td>34234</td>\n      <td>5.676931</td>\n      <td>4.376917</td>\n      <td>3.708355</td>\n      <td>3.708347</td>\n      <td>3.708354</td>\n      <td>5.676931</td>\n      <td>5.676931</td>\n      <td>5.676931</td>\n      <td>[1.296163623569839, 0.48693504609373106, 1.280...</td>\n      <td>[1.295278833379438, 0.48632960846265627, 1.279...</td>\n      <td>[1.296125570942752, 0.48679674155034186, 1.280...</td>\n      <td>36.783798</td>\n      <td>0.000129</td>\n    </tr>\n    <tr>\n      <th>8</th>\n      <td>34234</td>\n      <td>6.915827</td>\n      <td>5.235305</td>\n      <td>4.204916</td>\n      <td>4.204903</td>\n      <td>4.204918</td>\n      <td>6.915827</td>\n      <td>6.915827</td>\n      <td>6.915827</td>\n      <td>[1.6987490171163586, 0.758105674297957, 1.7343...</td>\n      <td>[1.6978697389581308, 0.7575137846358517, 1.733...</td>\n      <td>[1.6985970343528534, 0.7577909016813789, 1.734...</td>\n      <td>29.150531</td>\n      <td>0.000327</td>\n    </tr>\n    <tr>\n      <th>9</th>\n      <td>34234</td>\n      <td>6.734404</td>\n      <td>6.494226</td>\n      <td>5.358177</td>\n      <td>5.358225</td>\n      <td>5.358195</td>\n      <td>6.734404</td>\n      <td>6.734404</td>\n      <td>6.734404</td>\n      <td>[1.7879339672211447, -2.414234871598664, 1.992...</td>\n      <td>[1.7868263503183421, -2.4116136979252056, 1.99...</td>\n      <td>[1.7874356554558561, -2.4133520274065425, 1.99...</td>\n      <td>29.150531</td>\n      <td>0.000658</td>\n    </tr>\n  </tbody>\n</table>\n</div>"
     },
     "execution_count": 7,
     "metadata": {},
     "output_type": "execute_result"
    }
   ],
   "source": [
    "alphas = np.geomspace(1e-5, 1e5, 100)\n",
    "models = [LinearRegression(), RidgeCV(alphas=alphas), LassoCV(alphas=alphas)]\n",
    "scaler = StandardScaler()\n",
    "\n",
    "models_names = [model.__class__.__name__ for model in models]\n",
    "models_rmse_names = [f'{model_name} RMSE' for model_name in models_names]\n",
    "models_intercept = [f'{model_name} INTERCEPT' for model_name in models_names]\n",
    "models_coef = [f'{model_name} COEF' for model_name in models_names]\n",
    "models_alpha = [f'{model_name} ALPHA' for model_name in models_names if model_name != 'LinearRegression']\n",
    "columns = ['well', 'n_observations', 'const PRED', 'const RMSE'] + models_rmse_names + models_intercept + models_coef + models_alpha\n",
    "\n",
    "results = pd.DataFrame(columns=columns).set_index('well')\n",
    "\n",
    "for well in range(10):\n",
    "    x_train, x_test, y_train, y_test = get_train_test(f, t, well)\n",
    "\n",
    "    const_prediction = y_train.mean()\n",
    "    const_rmse = mean_squared_error(np.full_like(y_test, const_prediction), y_test, squared=False)\n",
    "\n",
    "    models_rmse = []\n",
    "    models_intercept = []\n",
    "    models_coef = []\n",
    "    models_alpha = []\n",
    "\n",
    "    for model in models:\n",
    "        model.fit(scaler.fit_transform(x_train), y_train)\n",
    "        rmse = mean_squared_error(model.predict(scaler.transform(x_test)), y_test, squared=False)\n",
    "        models_rmse.append(rmse)\n",
    "        models_intercept.append(model.intercept_)\n",
    "        models_coef.append(model.coef_)\n",
    "        if not isinstance(model, LinearRegression):\n",
    "            models_alpha.append(model.alpha_)\n",
    "\n",
    "    results.loc[well] = [x_train.shape[0], const_prediction, const_rmse] + models_rmse + models_intercept + models_coef + models_alpha\n",
    "results"
   ],
   "metadata": {
    "collapsed": false,
    "pycharm": {
     "name": "#%%\n"
    }
   }
  },
  {
   "cell_type": "markdown",
   "source": [
    "# Construct DataFrame for baseline methods\n",
    "\n",
    "Add well number and time as features"
   ],
   "metadata": {
    "collapsed": false
   }
  },
  {
   "cell_type": "code",
   "execution_count": 8,
   "outputs": [
    {
     "name": "stdout",
     "output_type": "stream",
     "text": [
      "489060 observations\n"
     ]
    }
   ],
   "source": [
    "def rmse(y_true, y_pred):\n",
    "    return mean_squared_error(y_true, y_pred, squared=False)\n",
    "\n",
    "\n",
    "def construct_df(f, t):\n",
    "    for iteration in range(f.shape[0]):\n",
    "        for well in range(n_wells):\n",
    "            f[iteration, well, :, :] = pd.DataFrame(f[iteration, well, :, :]).bfill().ffill().values\n",
    "    f = np.concatenate(\n",
    "        [np.concatenate([f[:, well, time, :], [[well, time]] * f.shape[0]], axis=1) for well in range(n_wells) for time in range(n_dates)],\n",
    "        axis=0, dtype=float\n",
    "    )\n",
    "    t = np.concatenate([t[:, well, time] for well in range(n_wells) for time in range(n_dates)], axis=0, dtype=float)\n",
    "    f = pd.DataFrame(f, columns=['oilrate', 'watrate', 'gasrate', 'well', 'time'])\n",
    "    f['well'] = pd.Categorical(f['well'].astype(int))\n",
    "    f['time'] = pd.Categorical(f['time'].astype(int))\n",
    "    return f, t\n",
    "\n",
    "\n",
    "X, y = construct_df(f, t)\n",
    "assert X.shape[0] == y.shape[0]\n",
    "print(f'{X.shape[0]} observations')\n",
    "\n",
    "X_train, X_test, y_train, y_test = train_test_split(X, y, train_size=0.7, random_state=0)"
   ],
   "metadata": {
    "collapsed": false,
    "pycharm": {
     "name": "#%%\n"
    }
   }
  },
  {
   "cell_type": "markdown",
   "source": [
    "# Constant prediction"
   ],
   "metadata": {
    "collapsed": false
   }
  },
  {
   "cell_type": "code",
   "execution_count": 9,
   "outputs": [
    {
     "name": "stdout",
     "output_type": "stream",
     "text": [
      "Const prediction: 5.743135090336185\n",
      "Const RMSE: 5.250765282152894\n"
     ]
    }
   ],
   "source": [
    "const_prediction = y_train.mean()\n",
    "const_rmse = rmse(np.full_like(y_test, const_prediction), y_test)\n",
    "print(f'Const prediction: {const_prediction}\\nConst RMSE: {const_rmse}')"
   ],
   "metadata": {
    "collapsed": false,
    "pycharm": {
     "name": "#%%\n"
    }
   }
  },
  {
   "cell_type": "markdown",
   "source": [
    "# Transform features"
   ],
   "metadata": {
    "collapsed": false
   }
  },
  {
   "cell_type": "code",
   "execution_count": 10,
   "outputs": [],
   "source": [
    "from sklearn.preprocessing import StandardScaler, OneHotEncoder\n",
    "from sklearn.compose import ColumnTransformer\n",
    "\n",
    "numerical_columns = ['oilrate', 'watrate', 'gasrate']\n",
    "categorical_columns = ['well', 'time']\n",
    "column_transformer = ColumnTransformer([\n",
    "    ('scaler', StandardScaler(), numerical_columns),\n",
    "    ('ohe', OneHotEncoder(), categorical_columns)\n",
    "])\n",
    "\n",
    "X_train_transformed = column_transformer.fit_transform(X_train)\n",
    "categorical_columns_ohe = column_transformer.transformers_[1][1].get_feature_names_out().tolist()\n",
    "transformed_columns = numerical_columns + categorical_columns_ohe\n",
    "X_train_transformed = pd.DataFrame(X_train_transformed.toarray(), columns=transformed_columns)\n",
    "X_test_transformed = pd.DataFrame(column_transformer.transform(X_test).toarray(), columns=transformed_columns)"
   ],
   "metadata": {
    "collapsed": false,
    "pycharm": {
     "name": "#%%\n"
    }
   }
  },
  {
   "cell_type": "markdown",
   "source": [
    "# Linear regressions"
   ],
   "metadata": {
    "collapsed": false
   }
  },
  {
   "cell_type": "code",
   "execution_count": 11,
   "outputs": [
    {
     "name": "stdout",
     "output_type": "stream",
     "text": [
      "Number of features: 127\n",
      "LinearRegression: RMSE=3.8391664873121014\n"
     ]
    },
    {
     "data": {
      "text/plain": "<Figure size 1500x500 with 1 Axes>",
      "image/png": "[encoded data removed]"
     },
     "metadata": {},
     "output_type": "display_data"
    },
    {
     "name": "stdout",
     "output_type": "stream",
     "text": [
      "RidgeCV: RMSE=3.839161047584214\n",
      "alpha=2.782559402207126\n"
     ]
    },
    {
     "data": {
      "text/plain": "<Figure size 1500x500 with 1 Axes>",
      "image/png": "[encoded data removed]"
     },
     "metadata": {},
     "output_type": "display_data"
    }
   ],
   "source": [
    "import matplotlib.pyplot as plt\n",
    "from sklearn.linear_model import LinearRegression, RidgeCV\n",
    "\n",
    "alphas = np.geomspace(1e-5, 1e2, 10)\n",
    "linear_models = [LinearRegression(), RidgeCV(alphas=alphas)]\n",
    "\n",
    "print(f'Number of features: {X_test_transformed.shape[1]}')\n",
    "for model in linear_models:\n",
    "    model.fit(X_train_transformed, y_train)\n",
    "    score = rmse(y_test, model.predict(X_test_transformed))\n",
    "    model_name = model.__class__.__name__\n",
    "    print(f'{model_name}: RMSE={score}')\n",
    "    if not isinstance(model, LinearRegression):\n",
    "        print(f'alpha={model.alpha_}')\n",
    "    plt.figure(figsize=(15, 5))\n",
    "    plt.bar(transformed_columns, model.coef_)\n",
    "    plt.xticks(rotation=90, fontsize=6)\n",
    "    plt.title(model_name)\n",
    "    plt.ylabel('Coefficient')\n",
    "    plt.show()\n"
   ],
   "metadata": {
    "collapsed": false,
    "pycharm": {
     "name": "#%%\n"
    }
   }
  },
  {
   "cell_type": "markdown",
   "source": [
    "# Tree and Random Forest"
   ],
   "metadata": {
    "collapsed": false
   }
  },
  {
   "cell_type": "code",
   "execution_count": 12,
   "outputs": [
    {
     "name": "stdout",
     "output_type": "stream",
     "text": [
      "DecisionTreeRegressor RMSE=3.545901430551799\n",
      "RandomForestRegressor RMSE=2.735495248492927\n"
     ]
    }
   ],
   "source": [
    "from sklearn.tree import DecisionTreeRegressor\n",
    "from sklearn.ensemble import RandomForestRegressor\n",
    "\n",
    "for model in [DecisionTreeRegressor(), RandomForestRegressor(n_estimators=10)]:\n",
    "    model.fit(X_train_transformed, y_train)\n",
    "    score = rmse(y_test, model.predict(X_test_transformed))\n",
    "    print(f'{model.__class__.__name__} RMSE={score}')"
   ],
   "metadata": {
    "collapsed": false,
    "pycharm": {
     "name": "#%%\n"
    }
   }
  },
  {
   "cell_type": "markdown",
   "source": [
    "# CatBoost"
   ],
   "metadata": {
    "collapsed": false
   }
  },
  {
   "cell_type": "code",
   "execution_count": 13,
   "outputs": [
    {
     "name": "stderr",
     "output_type": "stream",
     "text": [
      "D:\\anaconda3\\envs\\invest\\lib\\site-packages\\catboost\\core.py:1411: FutureWarning: iteritems is deprecated and will be removed in a future version. Use .items instead.\n",
      "  self._init_pool(data, label, cat_features, text_features, embedding_features, embedding_features_data, pairs, weight,\n"
     ]
    },
    {
     "name": "stdout",
     "output_type": "stream",
     "text": [
      "RMSE=2.4257923413280578\n"
     ]
    }
   ],
   "source": [
    "from catboost import CatBoostRegressor\n",
    "\n",
    "model = CatBoostRegressor(verbose=False, cat_features=categorical_columns)\n",
    "model.fit(X_train, y_train)\n",
    "score = rmse(y_test, model.predict(X_test))\n",
    "print(f'RMSE={score}')"
   ],
   "metadata": {
    "collapsed": false,
    "pycharm": {
     "name": "#%%\n"
    }
   }
  },
  {
   "cell_type": "markdown",
   "source": [],
   "metadata": {
    "collapsed": false,
    "pycharm": {
     "name": "#%% md\n"
    }
   }
  }
 ],
 "metadata": {
  "kernelspec": {
   "display_name": "Python 3",
   "language": "python",
   "name": "python3"
  },
  "language_info": {
   "codemirror_mode": {
    "name": "ipython",
    "version": 2
   },
   "file_extension": ".py",
   "mimetype": "text/x-python",
   "name": "python",
   "nbconvert_exporter": "python",
   "pygments_lexer": "ipython2",
   "version": "2.7.6"
  }
 },
 "nbformat": 4,
 "nbformat_minor": 0
}